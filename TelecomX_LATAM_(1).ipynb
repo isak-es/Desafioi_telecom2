{
  "nbformat": 4,
  "nbformat_minor": 0,
  "metadata": {
    "colab": {
      "provenance": []
    },
    "kernelspec": {
      "name": "python3",
      "display_name": "Python 3"
    },
    "language_info": {
      "name": "python"
    }
  },
  "cells": [
    {
      "cell_type": "markdown",
      "source": [
        "#📌 Extracción"
      ],
      "metadata": {
        "id": "4foVEKhrlqcH"
      }
    },
    {
      "cell_type": "code",
      "source": [
        "import pandas as pd\n",
        "import json\n",
        "\n",
        "with open('/content/TelecomX_Data.json') as f:\n",
        "    raw_data = json.load(f)\n",
        "\n",
        "df_raw = pd.json_normalize(raw_data)\n",
        "\n",
        "\n"
      ],
      "metadata": {
        "id": "1--uPM88l7JH"
      },
      "execution_count": 11,
      "outputs": []
    },
    {
      "cell_type": "markdown",
      "source": [
        "#🔧 Transformación"
      ],
      "metadata": {
        "id": "1lSZP8zmmGZu"
      }
    },
    {
      "cell_type": "code",
      "source": [
        "import logging\n",
        "\n",
        "logging.basicConfig(filename='telecomx_etl.log', level=logging.INFO)\n",
        "\n",
        "# Diagnóstico\n",
        "mem_mb = df_raw.memory_usage(deep=True).sum() / (1024**2)\n",
        "print(f\"Memoria total: {mem_mb:.2f} MB\")\n",
        "logging.info(f'Memoria total: {mem_mb:.2f} MB')\n",
        "\n",
        "# Limpieza\n",
        "low_variance = [col for col in df_raw.columns if df_raw[col].nunique() <= 1]\n",
        "high_cardinality = [col for col in df_raw.columns if df_raw[col].nunique() > 1000]\n",
        "nested_cols = [col for col in df_raw.columns if df_raw[col].apply(lambda x: isinstance(x, (list, dict))).any()]\n",
        "cols_to_drop = list(set(low_variance + high_cardinality + nested_cols))\n",
        "\n",
        "df_clean = df_raw.drop(columns=cols_to_drop)\n",
        "logging.info(f'Columnas eliminadas: {len(cols_to_drop)}')"
      ],
      "metadata": {
        "colab": {
          "base_uri": "https://localhost:8080/"
        },
        "id": "rPFIboXjoy0i",
        "outputId": "30ca155b-3616-4677-ec0d-0fbce1f6e663"
      },
      "execution_count": 12,
      "outputs": [
        {
          "output_type": "stream",
          "name": "stdout",
          "text": [
            "Memoria total: 8.04 MB\n"
          ]
        }
      ]
    },
    {
      "cell_type": "markdown",
      "source": [
        "#📊 Carga y análisis"
      ],
      "metadata": {
        "id": "6XnTC2NTmMRL"
      }
    },
    {
      "cell_type": "code",
      "source": [
        "df_clean.to_csv('telecomx_reducido.csv', index=False)\n",
        "logging.info('Archivo telecomx_reducido.csv guardado exitosamente')\n",
        "\n"
      ],
      "metadata": {
        "id": "1jgUnLqTmPdd"
      },
      "execution_count": 13,
      "outputs": []
    },
    {
      "cell_type": "code",
      "source": [
        "from sklearn.model_selection import train_test_split\n",
        "from sklearn.ensemble import RandomForestClassifier\n",
        "from sklearn.metrics import classification_report\n",
        "import pandas as pd\n",
        "\n",
        "X = df_clean.drop('Churn', axis=1)\n",
        "y = df_clean['Churn']\n",
        "\n",
        "X = pd.get_dummies(X)\n",
        "y = y.apply(lambda x: 1 if x == 'Yes' else 0)\n",
        "\n",
        "\n",
        "X_train, X_test, y_train, y_test = train_test_split(X, y, test_size=0.2, random_state=42)\n",
        "\n",
        "model = RandomForestClassifier()\n",
        "model.fit(X_train, y_train)\n",
        "\n",
        "y_pred = model.predict(X_test)\n",
        "print(classification_report(y_test, y_pred))"
      ],
      "metadata": {
        "colab": {
          "base_uri": "https://localhost:8080/"
        },
        "id": "qy0A67C_pAzR",
        "outputId": "e158d116-2fd6-4709-cf05-d6a2240ea5d9"
      },
      "execution_count": 14,
      "outputs": [
        {
          "output_type": "stream",
          "name": "stdout",
          "text": [
            "              precision    recall  f1-score   support\n",
            "\n",
            "           0       0.84      0.89      0.86      1082\n",
            "           1       0.62      0.50      0.55       372\n",
            "\n",
            "    accuracy                           0.79      1454\n",
            "   macro avg       0.73      0.70      0.71      1454\n",
            "weighted avg       0.78      0.79      0.78      1454\n",
            "\n"
          ]
        }
      ]
    },
    {
      "cell_type": "markdown",
      "source": [
        "#📄Informe final"
      ],
      "metadata": {
        "id": "v-WzfSvTmaw9"
      }
    },
    {
      "cell_type": "code",
      "source": [
        "importances = pd.Series(model.feature_importances_, index=X.columns)\n",
        "top_features = importances.sort_values(ascending=False).head(10)\n",
        "print(\"Variables más influyentes en el churn:\")\n",
        "print(top_features)\n"
      ],
      "metadata": {
        "id": "XMTac0YJmeK9",
        "colab": {
          "base_uri": "https://localhost:8080/"
        },
        "outputId": "7ba0b2af-8356-4480-eceb-7320e5d65de8"
      },
      "execution_count": 15,
      "outputs": [
        {
          "output_type": "stream",
          "name": "stdout",
          "text": [
            "Variables más influyentes en el churn:\n",
            "customer.tenure                           0.267070\n",
            "account.Contract_Month-to-month           0.061509\n",
            "account.PaymentMethod_Electronic check    0.035510\n",
            "customer.SeniorCitizen                    0.032933\n",
            "internet.OnlineSecurity_No                0.032206\n",
            "internet.TechSupport_No                   0.030165\n",
            "internet.InternetService_Fiber optic      0.026605\n",
            "customer.gender_Male                      0.025531\n",
            "customer.gender_Female                    0.025195\n",
            "internet.DeviceProtection_No              0.022636\n",
            "dtype: float64\n"
          ]
        }
      ]
    },
    {
      "cell_type": "markdown",
      "source": [
        "#Informe final\n",
        "##teniendo en cuenta las variables: tipo de contrato, metodo de pago, servicios contratados, tenure y Churn_no las remendaciones son:                                                     -incentiivar contratos largos\n",
        "##-mejorar servicios de soporte y seguridad\n",
        "## -fidelizacion de clientes nuevos\n",
        "## -monitorear clientes con pago electronico"
      ],
      "metadata": {
        "id": "rhipFmLWrEGF"
      }
    },
    {
      "cell_type": "markdown",
      "source": [
        "#Parte Dos"
      ],
      "metadata": {
        "id": "OpAhVxcxx_Cr"
      }
    },
    {
      "cell_type": "markdown",
      "source": [
        "##Extracción del Archivo Tratado"
      ],
      "metadata": {
        "id": "aWWzry-yyKWg"
      }
    },
    {
      "cell_type": "code",
      "source": [
        "with open('/content/telecomx_reducido.csv') as f:\n",
        "    df_raw = pd.read_csv(f)"
      ],
      "metadata": {
        "id": "BP_0A69bwUaE"
      },
      "execution_count": 17,
      "outputs": []
    },
    {
      "cell_type": "markdown",
      "source": [
        "##Eliminacion de culumnas irrelevantes"
      ],
      "metadata": {
        "id": "SikXO1rWyS7I"
      }
    },
    {
      "cell_type": "code",
      "source": [
        "cols_to_drop = [col for col in low_variance + high_cardinality + nested_cols if col not in ['customerID', 'account.Charges.Monthly', 'account.Charges.Total']]\n",
        "df_clean = df_raw.drop(columns=cols_to_drop)"
      ],
      "metadata": {
        "id": "PqmLXFgSyWPN"
      },
      "execution_count": 20,
      "outputs": []
    },
    {
      "cell_type": "markdown",
      "source": [
        "##Encoding"
      ],
      "metadata": {
        "id": "n7mBmbdbyiNP"
      }
    },
    {
      "cell_type": "code",
      "source": [
        "X = pd.get_dummies(df_clean.drop('Churn', axis=1))\n",
        "y = df_clean['Churn'].apply(lambda x: 1 if x == 'Yes' else 0)\n"
      ],
      "metadata": {
        "id": "Kb0_qogFyZyf"
      },
      "execution_count": 21,
      "outputs": []
    },
    {
      "cell_type": "markdown",
      "source": [
        "##Verificación de la Proporción de Cancelación (Churn)"
      ],
      "metadata": {
        "id": "wHQ8tfbqyq1v"
      }
    },
    {
      "cell_type": "code",
      "source": [
        "print(y.value_counts(normalize=True))\n"
      ],
      "metadata": {
        "colab": {
          "base_uri": "https://localhost:8080/"
        },
        "id": "pOCfCULmynv0",
        "outputId": "853cd244-287a-4c31-8b75-553c0d51b42a"
      },
      "execution_count": 22,
      "outputs": [
        {
          "output_type": "stream",
          "name": "stdout",
          "text": [
            "Churn\n",
            "0    0.74281\n",
            "1    0.25719\n",
            "Name: proportion, dtype: float64\n"
          ]
        }
      ]
    },
    {
      "cell_type": "markdown",
      "source": [
        "##Balanceo de Clases"
      ],
      "metadata": {
        "id": "uWCfwTQiywgO"
      }
    },
    {
      "cell_type": "code",
      "source": [
        "from imblearn.over_sampling import SMOTE\n",
        "smote = SMOTE(random_state=42)\n",
        "X_resampled, y_resampled = smote.fit_resample(X, y)\n"
      ],
      "metadata": {
        "id": "hNehI4QwytZ1"
      },
      "execution_count": 23,
      "outputs": []
    },
    {
      "cell_type": "markdown",
      "source": [
        "##Normalización o Estandarización"
      ],
      "metadata": {
        "id": "rHcoygtiy24f"
      }
    },
    {
      "cell_type": "code",
      "source": [
        "from sklearn.preprocessing import StandardScaler\n",
        "scaler = StandardScaler()\n",
        "X_scaled = scaler.fit_transform(X_resampled)\n"
      ],
      "metadata": {
        "id": "Yzk9Dtq-y1OF"
      },
      "execution_count": 24,
      "outputs": []
    },
    {
      "cell_type": "markdown",
      "source": [
        "##Análisis de Correlación"
      ],
      "metadata": {
        "id": "EpajJbs6y8p-"
      }
    },
    {
      "cell_type": "code",
      "source": [
        "import seaborn as sns\n",
        "import matplotlib.pyplot as plt\n",
        "\n",
        "corr_matrix = pd.DataFrame(X_scaled, columns=X.columns).corrwith(pd.Series(y_resampled)).abs()\n",
        "top_features = corr_matrix.sort_values(ascending=False).head(10)\n",
        "sns.barplot(x=top_features.values, y=top_features.index)\n",
        "plt.title(\"Top 10 Variables Correlacionadas con Churn\")\n",
        "plt.show()\n"
      ],
      "metadata": {
        "colab": {
          "base_uri": "https://localhost:8080/",
          "height": 452
        },
        "id": "30djts9my7KU",
        "outputId": "e357a504-609b-4089-e6e4-a55a6be04bdd"
      },
      "execution_count": 25,
      "outputs": [
        {
          "output_type": "display_data",
          "data": {
            "text/plain": [
              "<Figure size 640x480 with 1 Axes>"
            ],
            "image/png": "[encoded data removed]"
          },
          "metadata": {}
        }
      ]
    },
    {
      "cell_type": "markdown",
      "source": [
        "##Análisis Dirigido\n",
        "###Contract_Two year: contratos largos reducen cancelación\n",
        "\n",
        "###MonthlyCharges: cargos mensuales altos aumentan cancelación\n",
        "\n",
        "###TechSupport_No: falta de soporte técnico se asocia con mayor churn\n",
        "\n",
        "###InternetService_Fiber optic: clientes con fibra óptica tienden a cancelar más"
      ],
      "metadata": {
        "id": "JXgl-twvzDSH"
      }
    },
    {
      "cell_type": "markdown",
      "source": [
        "##Separación de Datos"
      ],
      "metadata": {
        "id": "ugjRPoBgzTye"
      }
    },
    {
      "cell_type": "code",
      "source": [
        "X_train, X_test, y_train, y_test = train_test_split(X_scaled, y_resampled, test_size=0.2, random_state=42)\n"
      ],
      "metadata": {
        "id": "0FnqXiAAzScb"
      },
      "execution_count": 26,
      "outputs": []
    },
    {
      "cell_type": "markdown",
      "source": [
        "##Creación de Modelos"
      ],
      "metadata": {
        "id": "_MWDtx7Gza4p"
      }
    },
    {
      "cell_type": "code",
      "source": [
        "from sklearn.ensemble import RandomForestClassifier\n",
        "from sklearn.linear_model import LogisticRegression\n",
        "from xgboost import XGBClassifier\n",
        "from sklearn.metrics import classification_report\n",
        "\n",
        "# Diccionario para almacenar modelos y sus nombres\n",
        "modelos = {\n",
        "    'Random Forest': RandomForestClassifier(random_state=42),\n",
        "    'Logistic Regression': LogisticRegression(max_iter=1000, random_state=42),\n",
        "    'XGBoost': XGBClassifier(use_label_encoder=False, eval_metric='logloss', random_state=42)\n",
        "}\n",
        "\n",
        "# Entrenamiento y evaluación\n",
        "for nombre, modelo in modelos.items():\n",
        "    print(f\"\\n🔍 Modelo: {nombre}\")\n",
        "    modelo.fit(X_train, y_train)\n",
        "    y_pred = modelo.predict(X_test)\n",
        "    print(classification_report(y_test, y_pred))\n"
      ],
      "metadata": {
        "colab": {
          "base_uri": "https://localhost:8080/"
        },
        "id": "fvQz9gHhzZMM",
        "outputId": "493a5b4d-13c4-43b5-c8c8-24c93ebe3bb0"
      },
      "execution_count": 27,
      "outputs": [
        {
          "output_type": "stream",
          "name": "stdout",
          "text": [
            "\n",
            "🔍 Modelo: Random Forest\n",
            "              precision    recall  f1-score   support\n",
            "\n",
            "           0       0.85      0.82      0.84      1060\n",
            "           1       0.84      0.86      0.85      1100\n",
            "\n",
            "    accuracy                           0.84      2160\n",
            "   macro avg       0.84      0.84      0.84      2160\n",
            "weighted avg       0.84      0.84      0.84      2160\n",
            "\n",
            "\n",
            "🔍 Modelo: Logistic Regression\n",
            "              precision    recall  f1-score   support\n",
            "\n",
            "           0       0.83      0.86      0.85      1060\n",
            "           1       0.86      0.83      0.85      1100\n",
            "\n",
            "    accuracy                           0.85      2160\n",
            "   macro avg       0.85      0.85      0.85      2160\n",
            "weighted avg       0.85      0.85      0.85      2160\n",
            "\n",
            "\n",
            "🔍 Modelo: XGBoost\n",
            "              precision    recall  f1-score   support\n",
            "\n",
            "           0       0.84      0.83      0.84      1060\n",
            "           1       0.84      0.85      0.84      1100\n",
            "\n",
            "    accuracy                           0.84      2160\n",
            "   macro avg       0.84      0.84      0.84      2160\n",
            "weighted avg       0.84      0.84      0.84      2160\n",
            "\n"
          ]
        },
        {
          "output_type": "stream",
          "name": "stderr",
          "text": [
            "/usr/local/lib/python3.11/dist-packages/xgboost/training.py:183: UserWarning: [02:28:02] WARNING: /workspace/src/learner.cc:738: \n",
            "Parameters: { \"use_label_encoder\" } are not used.\n",
            "\n",
            "  bst.update(dtrain, iteration=i, fobj=obj)\n"
          ]
        }
      ]
    },
    {
      "cell_type": "markdown",
      "source": [
        "##Conclusiones\n",
        "###Factores Clave de Cancelación\n",
        "\n",
        "####Clientes con contratos mensuales y sin soporte técnico tienen mayor probabilidad de cancelar.\n",
        "\n",
        "####Cargos mensuales elevados y servicios de fibra óptica también se asocian con mayor churn.\n",
        "\n",
        "###Estrategias de Retención\n",
        "\n",
        "####Incentivar contratos largos con descuentos progresivos.\n",
        "\n",
        "####Mejorar soporte técnico y visibilidad de asistencia.\n",
        "\n",
        "####Segmentar clientes de alto riesgo para campañas personalizadas.\n",
        "\n",
        "####Ofrecer planes escalonados para clientes con cargos mensuales altos."
      ],
      "metadata": {
        "id": "Gqkz40e4zqCf"
      }
    }
  ]
}